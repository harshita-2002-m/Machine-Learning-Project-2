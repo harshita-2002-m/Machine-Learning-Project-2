{
 "cells": [
  {
   "cell_type": "code",
   "execution_count": 1,
   "metadata": {},
   "outputs": [],
   "source": [
    "import cv2\n",
    "import mediapipe as mp\n",
    "import math\n",
    "import numpy as np\n",
    "from ctypes import cast, POINTER\n",
    "from comtypes import CLSCTX_ALL\n",
    "from pycaw.pycaw import AudioUtilities, IAudioEndpointVolume"
   ]
  },
  {
   "cell_type": "code",
   "execution_count": 2,
   "metadata": {},
   "outputs": [],
   "source": [
    "cap = cv2.VideoCapture(0)\n",
    "pTime = 0\n",
    "cTime = 0\n",
    "mpHands =  mp.solutions.hands\n",
    "hands = mpHands.Hands()\n",
    "mpDraws = mp.solutions.drawing_utils\n",
    "devices = AudioUtilities.GetSpeakers()\n",
    "interface = devices.Activate(\n",
    "    IAudioEndpointVolume._iid_, CLSCTX_ALL, None)\n",
    "volume = cast(interface, POINTER(IAudioEndpointVolume))"
   ]
  },
  {
   "cell_type": "code",
   "execution_count": 4,
   "metadata": {},
   "outputs": [
    {
     "ename": "KeyboardInterrupt",
     "evalue": "",
     "output_type": "error",
     "traceback": [
      "\u001b[1;31m---------------------------------------------------------------------------\u001b[0m",
      "\u001b[1;31mKeyboardInterrupt\u001b[0m                         Traceback (most recent call last)",
      "\u001b[1;32me:\\internship\\Wireless sound control\\Wireless Sound Control.ipynb Cell 3'\u001b[0m in \u001b[0;36m<cell line: 4>\u001b[1;34m()\u001b[0m\n\u001b[0;32m      <a href='vscode-notebook-cell:/e%3A/internship/Wireless%20sound%20control/Wireless%20Sound%20Control.ipynb#ch0000002?line=4'>5</a>\u001b[0m success , img \u001b[39m=\u001b[39m cap\u001b[39m.\u001b[39mread()\n\u001b[0;32m      <a href='vscode-notebook-cell:/e%3A/internship/Wireless%20sound%20control/Wireless%20Sound%20Control.ipynb#ch0000002?line=5'>6</a>\u001b[0m imgRGB \u001b[39m=\u001b[39m cv2\u001b[39m.\u001b[39mcvtColor(img , cv2\u001b[39m.\u001b[39mCOLOR_BGR2RGB)\n\u001b[1;32m----> <a href='vscode-notebook-cell:/e%3A/internship/Wireless%20sound%20control/Wireless%20Sound%20Control.ipynb#ch0000002?line=6'>7</a>\u001b[0m results \u001b[39m=\u001b[39m hands\u001b[39m.\u001b[39;49mprocess(imgRGB)\n\u001b[0;32m      <a href='vscode-notebook-cell:/e%3A/internship/Wireless%20sound%20control/Wireless%20Sound%20Control.ipynb#ch0000002?line=7'>8</a>\u001b[0m \u001b[39mif\u001b[39;00m results\u001b[39m.\u001b[39mmulti_hand_landmarks:\n\u001b[0;32m      <a href='vscode-notebook-cell:/e%3A/internship/Wireless%20sound%20control/Wireless%20Sound%20Control.ipynb#ch0000002?line=8'>9</a>\u001b[0m     \u001b[39mfor\u001b[39;00m handLms \u001b[39min\u001b[39;00m results\u001b[39m.\u001b[39mmulti_hand_landmarks:\n",
      "File \u001b[1;32mc:\\Users\\arhmm\\AppData\\Local\\Programs\\Python\\Python310\\lib\\site-packages\\mediapipe\\python\\solutions\\hands.py:153\u001b[0m, in \u001b[0;36mHands.process\u001b[1;34m(self, image)\u001b[0m\n\u001b[0;32m    <a href='file:///c%3A/Users/arhmm/AppData/Local/Programs/Python/Python310/lib/site-packages/mediapipe/python/solutions/hands.py?line=131'>132</a>\u001b[0m \u001b[39mdef\u001b[39;00m \u001b[39mprocess\u001b[39m(\u001b[39mself\u001b[39m, image: np\u001b[39m.\u001b[39mndarray) \u001b[39m-\u001b[39m\u001b[39m>\u001b[39m NamedTuple:\n\u001b[0;32m    <a href='file:///c%3A/Users/arhmm/AppData/Local/Programs/Python/Python310/lib/site-packages/mediapipe/python/solutions/hands.py?line=132'>133</a>\u001b[0m   \u001b[39m\"\"\"Processes an RGB image and returns the hand landmarks and handedness of each detected hand.\u001b[39;00m\n\u001b[0;32m    <a href='file:///c%3A/Users/arhmm/AppData/Local/Programs/Python/Python310/lib/site-packages/mediapipe/python/solutions/hands.py?line=133'>134</a>\u001b[0m \n\u001b[0;32m    <a href='file:///c%3A/Users/arhmm/AppData/Local/Programs/Python/Python310/lib/site-packages/mediapipe/python/solutions/hands.py?line=134'>135</a>\u001b[0m \u001b[39m  Args:\u001b[39;00m\n\u001b[1;32m   (...)\u001b[0m\n\u001b[0;32m    <a href='file:///c%3A/Users/arhmm/AppData/Local/Programs/Python/Python310/lib/site-packages/mediapipe/python/solutions/hands.py?line=149'>150</a>\u001b[0m \u001b[39m         right hand) of the detected hand.\u001b[39;00m\n\u001b[0;32m    <a href='file:///c%3A/Users/arhmm/AppData/Local/Programs/Python/Python310/lib/site-packages/mediapipe/python/solutions/hands.py?line=150'>151</a>\u001b[0m \u001b[39m  \"\"\"\u001b[39;00m\n\u001b[1;32m--> <a href='file:///c%3A/Users/arhmm/AppData/Local/Programs/Python/Python310/lib/site-packages/mediapipe/python/solutions/hands.py?line=152'>153</a>\u001b[0m   \u001b[39mreturn\u001b[39;00m \u001b[39msuper\u001b[39;49m()\u001b[39m.\u001b[39;49mprocess(input_data\u001b[39m=\u001b[39;49m{\u001b[39m'\u001b[39;49m\u001b[39mimage\u001b[39;49m\u001b[39m'\u001b[39;49m: image})\n",
      "File \u001b[1;32mc:\\Users\\arhmm\\AppData\\Local\\Programs\\Python\\Python310\\lib\\site-packages\\mediapipe\\python\\solution_base.py:334\u001b[0m, in \u001b[0;36mSolutionBase.process\u001b[1;34m(self, input_data)\u001b[0m\n\u001b[0;32m    <a href='file:///c%3A/Users/arhmm/AppData/Local/Programs/Python/Python310/lib/site-packages/mediapipe/python/solution_base.py?line=327'>328</a>\u001b[0m   \u001b[39melse\u001b[39;00m:\n\u001b[0;32m    <a href='file:///c%3A/Users/arhmm/AppData/Local/Programs/Python/Python310/lib/site-packages/mediapipe/python/solution_base.py?line=328'>329</a>\u001b[0m     \u001b[39mself\u001b[39m\u001b[39m.\u001b[39m_graph\u001b[39m.\u001b[39madd_packet_to_input_stream(\n\u001b[0;32m    <a href='file:///c%3A/Users/arhmm/AppData/Local/Programs/Python/Python310/lib/site-packages/mediapipe/python/solution_base.py?line=329'>330</a>\u001b[0m         stream\u001b[39m=\u001b[39mstream_name,\n\u001b[0;32m    <a href='file:///c%3A/Users/arhmm/AppData/Local/Programs/Python/Python310/lib/site-packages/mediapipe/python/solution_base.py?line=330'>331</a>\u001b[0m         packet\u001b[39m=\u001b[39m\u001b[39mself\u001b[39m\u001b[39m.\u001b[39m_make_packet(input_stream_type,\n\u001b[0;32m    <a href='file:///c%3A/Users/arhmm/AppData/Local/Programs/Python/Python310/lib/site-packages/mediapipe/python/solution_base.py?line=331'>332</a>\u001b[0m                                  data)\u001b[39m.\u001b[39mat(\u001b[39mself\u001b[39m\u001b[39m.\u001b[39m_simulated_timestamp))\n\u001b[1;32m--> <a href='file:///c%3A/Users/arhmm/AppData/Local/Programs/Python/Python310/lib/site-packages/mediapipe/python/solution_base.py?line=333'>334</a>\u001b[0m \u001b[39mself\u001b[39;49m\u001b[39m.\u001b[39;49m_graph\u001b[39m.\u001b[39;49mwait_until_idle()\n\u001b[0;32m    <a href='file:///c%3A/Users/arhmm/AppData/Local/Programs/Python/Python310/lib/site-packages/mediapipe/python/solution_base.py?line=334'>335</a>\u001b[0m \u001b[39m# Create a NamedTuple object where the field names are mapping to the graph\u001b[39;00m\n\u001b[0;32m    <a href='file:///c%3A/Users/arhmm/AppData/Local/Programs/Python/Python310/lib/site-packages/mediapipe/python/solution_base.py?line=335'>336</a>\u001b[0m \u001b[39m# output stream names.\u001b[39;00m\n\u001b[0;32m    <a href='file:///c%3A/Users/arhmm/AppData/Local/Programs/Python/Python310/lib/site-packages/mediapipe/python/solution_base.py?line=336'>337</a>\u001b[0m solution_outputs \u001b[39m=\u001b[39m collections\u001b[39m.\u001b[39mnamedtuple(\n\u001b[0;32m    <a href='file:///c%3A/Users/arhmm/AppData/Local/Programs/Python/Python310/lib/site-packages/mediapipe/python/solution_base.py?line=337'>338</a>\u001b[0m     \u001b[39m'\u001b[39m\u001b[39mSolutionOutputs\u001b[39m\u001b[39m'\u001b[39m, \u001b[39mself\u001b[39m\u001b[39m.\u001b[39m_output_stream_type_info\u001b[39m.\u001b[39mkeys())\n",
      "\u001b[1;31mKeyboardInterrupt\u001b[0m: "
     ]
    }
   ],
   "source": [
    "volRange = volume.GetVolumeRange()\n",
    "minVol = volRange[0]\n",
    "maxVol = volRange[1]\n",
    "while True:\n",
    "    success , img = cap.read()\n",
    "    imgRGB = cv2.cvtColor(img , cv2.COLOR_BGR2RGB)\n",
    "    results = hands.process(imgRGB)\n",
    "    if results.multi_hand_landmarks:\n",
    "        for handLms in results.multi_hand_landmarks:\n",
    "            lmList =[]\n",
    "            for id , lm in enumerate(handLms.landmark):\n",
    "                \n",
    "                #print(id , lm)\n",
    "                h , w , c = img.shape\n",
    "                cx , cy = int(lm.x*w) ,int(lm.y*h)\n",
    "                #print(id,cx,cy)\n",
    "                lmList.append([id, cx, cy])\n",
    "\n",
    "                \n",
    "                #if id == 1:\n",
    "                #    cv2.circle(img ,(cx,cy) ,20, (255 , 0,125) ,cv2.FILLED )\n",
    "                mpDraws.draw_landmarks(img , handLms , mpHands.HAND_CONNECTIONS)\n",
    "                #print(results.multi_hand_landmarks)\n",
    "\n",
    "            if lmList:    \n",
    "                x1 , y1 = lmList[4][1] , lmList[4][2]\n",
    "                x2 , y2 = lmList[8][1] , lmList[8][2]\n",
    "                cv2.circle(img , (x1 ,y1) ,15 , (255,0,255) ,cv2.FILLED)\n",
    "                cv2.circle(img , (x2 ,y2) ,15 , (255,0,255) ,cv2.FILLED)\n",
    "                \n",
    "                cv2.line(img, (x1,y1) , (x2,y2) , (255 , 0, 255) ,3)\n",
    "\n",
    "                z1 = (x1 + x2)//2\n",
    "                z2 = (y1 + y2)//2\n",
    "\n",
    "                cv2.circle(img , (z1,z2),15 ,(255,0,0) , cv2.FILLED )\n",
    "                length = math.hypot(x2- x1 , y2- y1)\n",
    "                #print(length)\n",
    "\n",
    "                if length < 50:\n",
    "                    cv2.circle(img , (z1 , z2) ,15 ,(255,255,255) , cv2.FILLED)\n",
    "                \n",
    "            vol = np.interp(length , [50 ,300] ,[minVol ,maxVol])\n",
    "            volBar = np.interp(length , [50,300] ,[400 ,150])\n",
    "            volPer = np.interp(length , [50 , 300] , [0,100])\n",
    "            #print(vol)\n",
    "            print(int(length) , vol)\n",
    "            #print(volume.GetVolumeRange())\n",
    "            volume.SetMasterVolumeLevel(vol, None)\n",
    "            \n",
    "            cv2.rectangle(img ,(50,150) , (85,400) ,(0,255,0) , 3)\n",
    "            cv2.rectangle(img ,(50,int(volBar)) , (85,400) ,(0,255,0) , cv2.FILLED)\n",
    "            cv2.putText(img , f'{int(volPer)}%', (40,450) ,cv2.FONT_HERSHEY_PLAIN,3 ,(0,255,255) ,3)\n",
    "\n",
    "            cv2.imshow(\"Image\" , img)\n",
    "            cv2.waitKey(1)"
   ]
  }
 ],
 "metadata": {
  "interpreter": {
   "hash": "75143cf95c0117af84dc82fe3a8861debed102885d63bed32936f8e69af38d28"
  },
  "kernelspec": {
   "display_name": "Python 3.10.0 64-bit",
   "language": "python",
   "name": "python3"
  },
  "language_info": {
   "codemirror_mode": {
    "name": "ipython",
    "version": 3
   },
   "file_extension": ".py",
   "mimetype": "text/x-python",
   "name": "python",
   "nbconvert_exporter": "python",
   "pygments_lexer": "ipython3",
   "version": "3.10.0"
  },
  "orig_nbformat": 4
 },
 "nbformat": 4,
 "nbformat_minor": 2
}
